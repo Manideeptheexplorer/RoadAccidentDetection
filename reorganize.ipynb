{
 "cells": [
  {
   "cell_type": "code",
   "execution_count": null,
   "id": "d55b17e2",
   "metadata": {},
   "outputs": [],
   "source": [
    "import os\n",
    "import shutil"
   ]
  },
  {
   "cell_type": "code",
   "execution_count": null,
   "id": "983af9c0",
   "metadata": {},
   "outputs": [],
   "source": [
    "# Define the source directory containing the 12 folders\n",
    "source_dir = \"Video-Accident-Dataset\"  # Change this path to your dataset folder"
   ]
  },
  {
   "cell_type": "code",
   "execution_count": null,
   "id": "00df61c5",
   "metadata": {},
   "outputs": [],
   "source": [
    "# Define the destination directory for reorganized data\n",
    "destination_dir = \"ProcessedDataset\"\n",
    "accident_dest = os.path.join(destination_dir, \"Accident\")\n",
    "no_accident_dest = os.path.join(destination_dir, \"NoAccident\")"
   ]
  },
  {
   "cell_type": "code",
   "execution_count": null,
   "id": "c224c621",
   "metadata": {},
   "outputs": [],
   "source": [
    "# Create destination folders if they don't exist\n",
    "os.makedirs(accident_dest, exist_ok=True)\n",
    "os.makedirs(no_accident_dest, exist_ok=True)"
   ]
  },
  {
   "cell_type": "code",
   "execution_count": null,
   "id": "9ee818c9",
   "metadata": {},
   "outputs": [],
   "source": [
    "print(\"Reorganizing dataset into two folders: Accident and NoAccident...\")"
   ]
  },
  {
   "cell_type": "code",
   "execution_count": null,
   "id": "4fa08d50",
   "metadata": {},
   "outputs": [],
   "source": [
    "# Iterate over each folder in the source directory\n",
    "for folder_name in os.listdir(source_dir):\n",
    "    folder_path = os.path.join(source_dir, folder_name)\n",
    "    if os.path.isdir(folder_path):\n",
    "        # Check if this folder represents no accident videos\n",
    "        if folder_name.lower() == \"negative_samples\":\n",
    "            dest_folder = no_accident_dest\n",
    "        else:\n",
    "            dest_folder = accident_dest\n",
    "\n",
    "        # Iterate over files in the current folder (adjust extensions as needed)\n",
    "        for file_name in os.listdir(folder_path):\n",
    "            if file_name.lower().endswith(('.mp4', '.avi', '.mov')):\n",
    "                src_file = os.path.join(folder_path, file_name)\n",
    "                dest_file = os.path.join(dest_folder, file_name)\n",
    "                shutil.copy(src_file, dest_file)\n",
    "                print(f\"Copied {src_file} to {dest_file}\")"
   ]
  },
  {
   "cell_type": "code",
   "execution_count": null,
   "id": "84ffc985",
   "metadata": {},
   "outputs": [],
   "source": [
    "print(\"Dataset reorganization complete.\")\n",
    "print(f\"Total Accident videos: {len(os.listdir(accident_dest))}\")\n",
    "print(f\"Total NoAccident videos: {len(os.listdir(no_accident_dest))}\")"
   ]
  }
 ],
 "metadata": {
  "jupytext": {
   "cell_metadata_filter": "-all",
   "main_language": "python",
   "notebook_metadata_filter": "-all"
  }
 },
 "nbformat": 4,
 "nbformat_minor": 5
}
